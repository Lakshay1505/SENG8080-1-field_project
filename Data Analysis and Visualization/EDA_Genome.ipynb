{
 "cells": [
  {
   "cell_type": "markdown",
   "id": "52b31db7",
   "metadata": {},
   "source": [
    "## Exploratory Data Analysis (EDA) of Genome Data\n",
    "\n",
    "This notebook provides an extensive exploratory data analysis of genome data, including summary statistics and visualizations."
   ]
  },
  {
   "cell_type": "markdown",
   "id": "52559dd2",
   "metadata": {},
   "source": [
    "The Genome Data follows General GFF3 structure. All GFF formats (GFF2, GFF3 and GTF) are tab delimited with 9 fields per line. They all share the same structure for the first 7 fields, while differing in the content and format of the ninth field. Some field names have been changed in GFF3 to avoid confusion. For example, the \"seqid\" field was formerly referred to as \"sequence\", which may be confused with a nucleotide or amino acid chain. \n",
    "Find more details: https://en.wikipedia.org/wiki/General_feature_format \n",
    "\n",
    "The data represent detailed information about genomic features, including their positions, types, and corresponding sequences. It could be used for various bioinformatics analyses, such as gene expression studies, genetic variant detection, or functional annotation. Here's a breakdown of the columns and what they represent in provided dataset:\n",
    "\n",
    "- **SeqName:** The sequence name or identifier, likely referring to a specific genome or chromosomal segment.\n",
    "- **Source:** The source of the annotation, possibly indicating the database or tool used to generate this data.\n",
    "- **Feature:** The type of genomic feature, such as transcripts, exons, codons, etc.\n",
    "- **Start:** The start position of the feature within the sequence.\n",
    "- **End:** The end position of the feature within the sequence.\n",
    "- **Score:** This column contains a \".\" for the first few rows, so its purpose is not immediately clear. It might represent a confidence score or other metric.\n",
    "- **Strand:** The DNA strand direction, either \"+\" (forward) or \"-\" (reverse).\n",
    "- **Frame:** The reading frame of the codon, an important concept in gene translation. It can be 0, 1, or 2.\n",
    "- **Attribute:** Additional attributes or annotations related to the feature, such as gene IDs, transcript IDs, exon numbers, etc.\n",
    "- **Genome String:** The actual nucleotide sequence (A, T, C, G) corresponding to the feature. It appears to be broken into multiple lines in some cases."
   ]
  },
  {
   "cell_type": "code",
   "execution_count": 1,
   "id": "f652ee53",
   "metadata": {},
   "outputs": [],
   "source": [
    "\n",
    "# Importing the necessary libraries and modules\n",
    "import pandas as pd\n",
    "import matplotlib.pyplot as plt\n",
    "import seaborn as sns\n",
    "    "
   ]
  },
  {
   "cell_type": "markdown",
   "id": "436d844a",
   "metadata": {},
   "source": [
    "### Reading the Data"
   ]
  },
  {
   "cell_type": "code",
   "execution_count": 2,
   "id": "cc24bde7",
   "metadata": {
    "scrolled": false
   },
   "outputs": [
    {
     "data": {
      "text/html": [
       "<div>\n",
       "<style scoped>\n",
       "    .dataframe tbody tr th:only-of-type {\n",
       "        vertical-align: middle;\n",
       "    }\n",
       "\n",
       "    .dataframe tbody tr th {\n",
       "        vertical-align: top;\n",
       "    }\n",
       "\n",
       "    .dataframe thead th {\n",
       "        text-align: right;\n",
       "    }\n",
       "</style>\n",
       "<table border=\"1\" class=\"dataframe\">\n",
       "  <thead>\n",
       "    <tr style=\"text-align: right;\">\n",
       "      <th></th>\n",
       "      <th>SeqName</th>\n",
       "      <th>Source</th>\n",
       "      <th>Feature</th>\n",
       "      <th>Start</th>\n",
       "      <th>End</th>\n",
       "      <th>Score</th>\n",
       "      <th>Strand</th>\n",
       "      <th>Frame</th>\n",
       "      <th>Attribute</th>\n",
       "      <th>Genome String</th>\n",
       "    </tr>\n",
       "  </thead>\n",
       "  <tbody>\n",
       "    <tr>\n",
       "      <th>0</th>\n",
       "      <td>NC_045512v2</td>\n",
       "      <td>ncbiGenes.genePred</td>\n",
       "      <td>transcript</td>\n",
       "      <td>266</td>\n",
       "      <td>13483</td>\n",
       "      <td>.</td>\n",
       "      <td>+</td>\n",
       "      <td>.</td>\n",
       "      <td>gene_id \"ORF1a\"; transcript_id \"ORF1a\";</td>\n",
       "      <td>TAAGATGGAGAGCCTTGTCCCTGGTTTCAACGAGAAAAC\\nACACG...</td>\n",
       "    </tr>\n",
       "    <tr>\n",
       "      <th>1</th>\n",
       "      <td>NC_045512v2</td>\n",
       "      <td>ncbiGenes.genePred</td>\n",
       "      <td>exon</td>\n",
       "      <td>266</td>\n",
       "      <td>13483</td>\n",
       "      <td>.</td>\n",
       "      <td>+</td>\n",
       "      <td>.</td>\n",
       "      <td>gene_id \"ORF1a\"; transcript_id \"ORF1a\"; exon_n...</td>\n",
       "      <td>TAAGATGGAGAGCCTTGTCCCTGGTTTCAACGAGAAAAC\\nACACG...</td>\n",
       "    </tr>\n",
       "    <tr>\n",
       "      <th>2</th>\n",
       "      <td>NC_045512v2</td>\n",
       "      <td>ncbiGenes.genePred</td>\n",
       "      <td>CDS</td>\n",
       "      <td>266</td>\n",
       "      <td>13480</td>\n",
       "      <td>.</td>\n",
       "      <td>+</td>\n",
       "      <td>0</td>\n",
       "      <td>gene_id \"ORF1a\"; transcript_id \"ORF1a\"; exon_n...</td>\n",
       "      <td>TAAGATGGAGAGCCTTGTCCCTGGTTTCAACGAGAAAAC\\nACACG...</td>\n",
       "    </tr>\n",
       "    <tr>\n",
       "      <th>3</th>\n",
       "      <td>NC_045512v2</td>\n",
       "      <td>ncbiGenes.genePred</td>\n",
       "      <td>start_codon</td>\n",
       "      <td>266</td>\n",
       "      <td>268</td>\n",
       "      <td>.</td>\n",
       "      <td>+</td>\n",
       "      <td>0</td>\n",
       "      <td>gene_id \"ORF1a\"; transcript_id \"ORF1a\"; exon_n...</td>\n",
       "      <td>TA</td>\n",
       "    </tr>\n",
       "    <tr>\n",
       "      <th>4</th>\n",
       "      <td>NC_045512v2</td>\n",
       "      <td>ncbiGenes.genePred</td>\n",
       "      <td>stop_codon</td>\n",
       "      <td>13481</td>\n",
       "      <td>13483</td>\n",
       "      <td>.</td>\n",
       "      <td>+</td>\n",
       "      <td>0</td>\n",
       "      <td>gene_id \"ORF1a\"; transcript_id \"ORF1a\"; exon_n...</td>\n",
       "      <td>AA</td>\n",
       "    </tr>\n",
       "  </tbody>\n",
       "</table>\n",
       "</div>"
      ],
      "text/plain": [
       "       SeqName              Source      Feature  Start   End  Score Strand  \\\n",
       "0  NC_045512v2  ncbiGenes.genePred   transcript    266  13483     .      +   \n",
       "1  NC_045512v2  ncbiGenes.genePred         exon    266  13483     .      +   \n",
       "2  NC_045512v2  ncbiGenes.genePred          CDS    266  13480     .      +   \n",
       "3  NC_045512v2  ncbiGenes.genePred  start_codon    266    268     .      +   \n",
       "4  NC_045512v2  ncbiGenes.genePred   stop_codon  13481  13483     .      +   \n",
       "\n",
       "  Frame                                          Attribute   \\\n",
       "0      .           gene_id \"ORF1a\"; transcript_id \"ORF1a\";    \n",
       "1      .  gene_id \"ORF1a\"; transcript_id \"ORF1a\"; exon_n...   \n",
       "2      0  gene_id \"ORF1a\"; transcript_id \"ORF1a\"; exon_n...   \n",
       "3      0  gene_id \"ORF1a\"; transcript_id \"ORF1a\"; exon_n...   \n",
       "4      0  gene_id \"ORF1a\"; transcript_id \"ORF1a\"; exon_n...   \n",
       "\n",
       "                                       Genome String  \n",
       "0  TAAGATGGAGAGCCTTGTCCCTGGTTTCAACGAGAAAAC\\nACACG...  \n",
       "1  TAAGATGGAGAGCCTTGTCCCTGGTTTCAACGAGAAAAC\\nACACG...  \n",
       "2  TAAGATGGAGAGCCTTGTCCCTGGTTTCAACGAGAAAAC\\nACACG...  \n",
       "3                                                 TA  \n",
       "4                                                 AA  "
      ]
     },
     "execution_count": 2,
     "metadata": {},
     "output_type": "execute_result"
    }
   ],
   "source": [
    "\n",
    "# Reading the CSV file\n",
    "genome_data = pd.read_csv('GenomeCleanData.csv')\n",
    "genome_data.head()\n",
    "    "
   ]
  },
  {
   "cell_type": "markdown",
   "id": "85863276",
   "metadata": {},
   "source": []
  },
  {
   "cell_type": "markdown",
   "id": "aa180497",
   "metadata": {},
   "source": [
    "### Summary Statistics\n",
    "\n",
    "#### Features Distribution"
   ]
  },
  {
   "cell_type": "code",
   "execution_count": 3,
   "id": "3ef1e74c",
   "metadata": {},
   "outputs": [
    {
     "data": {
      "text/plain": [
       "exon           13\n",
       "CDS            13\n",
       "transcript     12\n",
       "start_codon    12\n",
       "stop_codon     12\n",
       "Name: Feature, dtype: int64"
      ]
     },
     "execution_count": 3,
     "metadata": {},
     "output_type": "execute_result"
    }
   ],
   "source": [
    "\n",
    "# Distribution of genomic features\n",
    "feature_distribution = genome_data['Feature'].value_counts()\n",
    "feature_distribution\n",
    "    "
   ]
  },
  {
   "cell_type": "markdown",
   "id": "f38d8bd3",
   "metadata": {},
   "source": [
    "#### Strand Distribution"
   ]
  },
  {
   "cell_type": "code",
   "execution_count": 10,
   "id": "f5dce252",
   "metadata": {},
   "outputs": [
    {
     "data": {
      "text/plain": [
       "+    62\n",
       "Name: Strand, dtype: int64"
      ]
     },
     "execution_count": 10,
     "metadata": {},
     "output_type": "execute_result"
    }
   ],
   "source": [
    "# Distribution of strand direction\n",
    "strand_distribution = genome_data['Strand'].value_counts()\n",
    "strand_distribution"
   ]
  },
  {
   "cell_type": "markdown",
   "id": "19d00a2b",
   "metadata": {},
   "source": [
    "It appears that all the genomic features in the dataset are on the positive (\"+\") strand direction."
   ]
  },
  {
   "cell_type": "markdown",
   "id": "0e67f714",
   "metadata": {},
   "source": [
    "#### Start Positions Summary\n",
    "We can analyze the start and end positions of the genomic features to understand their range and distribution."
   ]
  },
  {
   "cell_type": "code",
   "execution_count": 5,
   "id": "7f93f4c6",
   "metadata": {},
   "outputs": [
    {
     "data": {
      "text/plain": [
       "count       62.000000\n",
       "mean     22758.903226\n",
       "std       9384.328067\n",
       "min        266.000000\n",
       "25%      22517.750000\n",
       "50%      26856.000000\n",
       "75%      27853.000000\n",
       "max      29672.000000\n",
       "Name: Start, dtype: float64"
      ]
     },
     "execution_count": 5,
     "metadata": {},
     "output_type": "execute_result"
    }
   ],
   "source": [
    "\n",
    "# Summary statistics of the start positions\n",
    "start_positions_summary = genome_data['Start'].describe()\n",
    "start_positions_summary\n",
    "    "
   ]
  },
  {
   "cell_type": "markdown",
   "id": "9c68aabe",
   "metadata": {},
   "source": [
    "#### End Positions Summary"
   ]
  },
  {
   "cell_type": "code",
   "execution_count": 6,
   "id": "198ea1b8",
   "metadata": {},
   "outputs": [
    {
     "data": {
      "text/plain": [
       "count       62.000000\n",
       "mean     24814.096774\n",
       "std       6366.090665\n",
       "min        268.000000\n",
       "25%      25384.000000\n",
       "50%      27191.000000\n",
       "75%      27887.000000\n",
       "max      29674.000000\n",
       "Name: End , dtype: float64"
      ]
     },
     "execution_count": 6,
     "metadata": {},
     "output_type": "execute_result"
    }
   ],
   "source": [
    "\n",
    "# Summary statistics of the end positions (correcting the column name)\n",
    "end_positions_summary = genome_data['End '].describe()\n",
    "end_positions_summary\n",
    "    "
   ]
  },
  {
   "cell_type": "markdown",
   "id": "2ecf0893",
   "metadata": {},
   "source": [
    "### Visualizations\n",
    "\n",
    "#### Feature Distribution Plot"
   ]
  },
  {
   "cell_type": "code",
   "execution_count": 7,
   "id": "59382de3",
   "metadata": {
    "scrolled": false
   },
   "outputs": [
    {
     "data": {
      "image/png": "[encoded data removed]",
      "text/plain": [
       "<Figure size 720x432 with 1 Axes>"
      ]
     },
     "metadata": {},
     "output_type": "display_data"
    }
   ],
   "source": [
    "\n",
    "# Feature Distribution Plot\n",
    "sns.set(style=\"whitegrid\")\n",
    "plt.figure(figsize=(10, 6))\n",
    "sns.countplot(data=genome_data, x='Feature', order=genome_data['Feature'].value_counts().index)\n",
    "plt.title('Distribution of Genomic Features')\n",
    "plt.xlabel('Feature')\n",
    "plt.ylabel('Count')\n",
    "plt.show()\n",
    "    "
   ]
  },
  {
   "cell_type": "markdown",
   "id": "6ebbb69b",
   "metadata": {},
   "source": [
    "The bar plot above displays the distribution of genomic features in the dataset. As observed earlier, the features \"exon\" and \"CDS\" have the highest occurrences, followed by \"transcript,\" \"start_codon,\" and \"stop_codon.\""
   ]
  },
  {
   "cell_type": "markdown",
   "id": "a932c920",
   "metadata": {},
   "source": [
    "#### Start and End Positions Distribution Plot"
   ]
  },
  {
   "cell_type": "code",
   "execution_count": 8,
   "id": "cf8efaf9",
   "metadata": {
    "scrolled": false
   },
   "outputs": [
    {
     "data": {
      "image/png": "[encoded data removed]",
      "text/plain": [
       "<Figure size 864x432 with 1 Axes>"
      ]
     },
     "metadata": {},
     "output_type": "display_data"
    }
   ],
   "source": [
    "\n",
    "# Start and End Positions Distribution Plot\n",
    "plt.figure(figsize=(12, 6))\n",
    "plt.scatter(genome_data['Start'], genome_data['End '], c='blue', alpha=0.6, label='Genomic Features')\n",
    "plt.title('Start and End Positions of Genomic Features')\n",
    "plt.xlabel('Start Position')\n",
    "plt.ylabel('End Position')\n",
    "plt.legend()\n",
    "plt.show()\n",
    "    "
   ]
  },
  {
   "cell_type": "markdown",
   "id": "3ead34bd",
   "metadata": {},
   "source": [
    "The scatter plot above shows the start and end positions of the genomic features. You can observe the relationship between the start and end positions, as well as identify any clusters or patterns in the distribution of these features."
   ]
  },
  {
   "cell_type": "markdown",
   "id": "c918fe54",
   "metadata": {},
   "source": [
    "#### Histogram for 'End' Positions"
   ]
  },
  {
   "cell_type": "code",
   "execution_count": 9,
   "id": "fdce238b",
   "metadata": {
    "scrolled": false
   },
   "outputs": [
    {
     "data": {
      "image/png": "[encoded data removed]",
      "text/plain": [
       "<Figure size 720x432 with 1 Axes>"
      ]
     },
     "metadata": {},
     "output_type": "display_data"
    }
   ],
   "source": [
    "\n",
    "# Histogram for 'End' positions\n",
    "plt.figure(figsize=(10, 6))\n",
    "sns.histplot(genome_data['End '], bins=15, kde=True, color='blue')\n",
    "plt.title('Distribution of End Positions')\n",
    "plt.xlabel('End Position')\n",
    "plt.ylabel('Frequency')\n",
    "plt.show()\n",
    "    "
   ]
  },
  {
   "cell_type": "markdown",
   "id": "2e46f2a7",
   "metadata": {},
   "source": [
    "The histogram above displays the distribution of end positions for the genomic features. The kernel density estimate (KDE) line provides a smooth approximation of the distribution."
   ]
  },
  {
   "cell_type": "markdown",
   "id": "b7b8f724",
   "metadata": {},
   "source": [
    "### Gene length analysis \n",
    "Gene length analysis allows us to study the distribution of lengths for various genomic features such as genes, transcripts, exons, etc. In this dataset, we can calculate the lengths of features like exons and transcripts by taking the difference between the start and end positions.\n",
    "\n",
    "Let's begin by calculating the lengths for different features and summarizing the results."
   ]
  },
  {
   "cell_type": "code",
   "execution_count": 11,
   "id": "7cd47cb1",
   "metadata": {
    "scrolled": true
   },
   "outputs": [
    {
     "data": {
      "text/html": [
       "<div>\n",
       "<style scoped>\n",
       "    .dataframe tbody tr th:only-of-type {\n",
       "        vertical-align: middle;\n",
       "    }\n",
       "\n",
       "    .dataframe tbody tr th {\n",
       "        vertical-align: top;\n",
       "    }\n",
       "\n",
       "    .dataframe thead th {\n",
       "        text-align: right;\n",
       "    }\n",
       "</style>\n",
       "<table border=\"1\" class=\"dataframe\">\n",
       "  <thead>\n",
       "    <tr style=\"text-align: right;\">\n",
       "      <th></th>\n",
       "      <th>SeqName</th>\n",
       "      <th>Feature</th>\n",
       "      <th>Start</th>\n",
       "      <th>End</th>\n",
       "      <th>Length</th>\n",
       "    </tr>\n",
       "  </thead>\n",
       "  <tbody>\n",
       "    <tr>\n",
       "      <th>0</th>\n",
       "      <td>NC_045512v2</td>\n",
       "      <td>transcript</td>\n",
       "      <td>266</td>\n",
       "      <td>13483</td>\n",
       "      <td>13218</td>\n",
       "    </tr>\n",
       "    <tr>\n",
       "      <th>1</th>\n",
       "      <td>NC_045512v2</td>\n",
       "      <td>exon</td>\n",
       "      <td>266</td>\n",
       "      <td>13483</td>\n",
       "      <td>13218</td>\n",
       "    </tr>\n",
       "    <tr>\n",
       "      <th>2</th>\n",
       "      <td>NC_045512v2</td>\n",
       "      <td>CDS</td>\n",
       "      <td>266</td>\n",
       "      <td>13480</td>\n",
       "      <td>13215</td>\n",
       "    </tr>\n",
       "    <tr>\n",
       "      <th>3</th>\n",
       "      <td>NC_045512v2</td>\n",
       "      <td>start_codon</td>\n",
       "      <td>266</td>\n",
       "      <td>268</td>\n",
       "      <td>3</td>\n",
       "    </tr>\n",
       "    <tr>\n",
       "      <th>4</th>\n",
       "      <td>NC_045512v2</td>\n",
       "      <td>stop_codon</td>\n",
       "      <td>13481</td>\n",
       "      <td>13483</td>\n",
       "      <td>3</td>\n",
       "    </tr>\n",
       "  </tbody>\n",
       "</table>\n",
       "</div>"
      ],
      "text/plain": [
       "       SeqName      Feature  Start   End   Length\n",
       "0  NC_045512v2   transcript    266  13483   13218\n",
       "1  NC_045512v2         exon    266  13483   13218\n",
       "2  NC_045512v2          CDS    266  13480   13215\n",
       "3  NC_045512v2  start_codon    266    268       3\n",
       "4  NC_045512v2   stop_codon  13481  13483       3"
      ]
     },
     "execution_count": 11,
     "metadata": {},
     "output_type": "execute_result"
    }
   ],
   "source": [
    "\n",
    "# Calculating the lengths of genomic features by subtracting the start position from the end position\n",
    "genome_data['Length'] = genome_data['End '] - genome_data['Start'] + 1\n",
    "\n",
    "# Displaying the first few rows with the newly calculated 'Length' column\n",
    "genome_data_with_length = genome_data[['SeqName', 'Feature', 'Start', 'End ', 'Length']]\n",
    "genome_data_with_length.head()\n"
   ]
  },
  {
   "cell_type": "markdown",
   "id": "f1b524e8",
   "metadata": {},
   "source": [
    "The \"Length\" column has been added to the dataset, representing the length of each genomic feature. This length is calculated as the difference between the end and start positions plus one, to include both the start and end positions in the calculation."
   ]
  },
  {
   "cell_type": "markdown",
   "id": "cb116378",
   "metadata": {},
   "source": [
    "#### Analyzing the Lengths of Specific Features\n",
    "Now, we can analyze the lengths of specific features such as exons, transcripts, coding sequences (CDS), etc. Let's start by summarizing the lengths for each type of feature."
   ]
  },
  {
   "cell_type": "code",
   "execution_count": 15,
   "id": "0fcddfbc",
   "metadata": {
    "scrolled": true
   },
   "outputs": [
    {
     "data": {
      "text/plain": [
       "count       13.000000\n",
       "mean      3267.923077\n",
       "std       4944.132338\n",
       "min        117.000000\n",
       "25%        228.000000\n",
       "50%        669.000000\n",
       "75%       3822.000000\n",
       "max      13218.000000\n",
       "Name: Length, dtype: float64"
      ]
     },
     "execution_count": 15,
     "metadata": {},
     "output_type": "execute_result"
    }
   ],
   "source": [
    "\n",
    "# Summary statistics for the lengths of exons\n",
    "exon_lengths_summary = genome_data_with_length[genome_data_with_length['Feature'] == 'exon']['Length'].describe()\n",
    "exon_lengths_summary\n"
   ]
  },
  {
   "cell_type": "markdown",
   "id": "473725de",
   "metadata": {},
   "source": [
    "These statistics provide insights into the distribution of exon lengths within the dataset."
   ]
  },
  {
   "cell_type": "code",
   "execution_count": 16,
   "id": "a57342ed",
   "metadata": {
    "scrolled": true
   },
   "outputs": [
    {
     "data": {
      "text/plain": [
       "count       12.000000\n",
       "mean      3540.166667\n",
       "std       6710.238430\n",
       "min        117.000000\n",
       "25%        217.500000\n",
       "50%        517.500000\n",
       "75%       1900.500000\n",
       "max      21290.000000\n",
       "Name: Length, dtype: float64"
      ]
     },
     "execution_count": 16,
     "metadata": {},
     "output_type": "execute_result"
    }
   ],
   "source": [
    "\n",
    "# Summary statistics for the lengths of transcripts\n",
    "transcript_lengths_summary = genome_data_with_length[genome_data_with_length['Feature'] == 'transcript']['Length'].describe()\n",
    "transcript_lengths_summary\n"
   ]
  },
  {
   "cell_type": "markdown",
   "id": "01d16db7",
   "metadata": {},
   "source": [
    "The transcript lengths vary widely, with the maximum length being significantly larger than the median, indicating a skewed distribution."
   ]
  },
  {
   "cell_type": "markdown",
   "id": "cd8974b3",
   "metadata": {},
   "source": [
    "### Visualizing the Length Distribution\n",
    "We can also visualize the length distribution for different features using box plots and histograms."
   ]
  },
  {
   "cell_type": "markdown",
   "id": "a77fc7b8",
   "metadata": {},
   "source": [
    "#### Box Plot for Length Distribution of Exons and Transcripts\n",
    "The box plot below visualizes the length distribution of exons and transcripts in the dataset. By using a logarithmic scale on the y-axis, we can better visualize the range and distribution of lengths, especially since there are significant differences in the lengths of these features. The plot shows the median, quartiles, and potential outliers for both exons and transcripts."
   ]
  },
  {
   "cell_type": "code",
   "execution_count": 14,
   "id": "fa80b5be",
   "metadata": {},
   "outputs": [
    {
     "data": {
      "image/png": "[encoded data removed]",
      "text/plain": [
       "<Figure size 864x432 with 1 Axes>"
      ]
     },
     "metadata": {},
     "output_type": "display_data"
    }
   ],
   "source": [
    "\n",
    "# Box plot for the length distribution of exons and transcripts\n",
    "plt.figure(figsize=(12, 6))\n",
    "sns.boxplot(data=genome_data_with_length[genome_data_with_length['Feature'].isin(['exon', 'transcript'])], x='Feature', y='Length')\n",
    "plt.title('Length Distribution of Exons and Transcripts')\n",
    "plt.xlabel('Feature')\n",
    "plt.ylabel('Length')\n",
    "plt.yscale('log')  # Setting the y-axis to logarithmic scale for better visualization\n",
    "plt.show()\n"
   ]
  },
  {
   "cell_type": "markdown",
   "id": "6f1a1104",
   "metadata": {},
   "source": [
    "Conclusion\n",
    "\n",
    "The gene length analysis provides insights into the distribution and characteristics of the lengths of genomic features such as exons and transcripts. This information can be valuable in understanding gene structure and organization and may have implications in various biological contexts."
   ]
  }
 ],
 "metadata": {
  "kernelspec": {
   "display_name": "Python 3 (ipykernel)",
   "language": "python",
   "name": "python3"
  },
  "language_info": {
   "codemirror_mode": {
    "name": "ipython",
    "version": 3
   },
   "file_extension": ".py",
   "mimetype": "text/x-python",
   "name": "python",
   "nbconvert_exporter": "python",
   "pygments_lexer": "ipython3",
   "version": "3.9.12"
  }
 },
 "nbformat": 4,
 "nbformat_minor": 5
}
